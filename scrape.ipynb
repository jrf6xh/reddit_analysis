{
 "cells": [
  {
   "cell_type": "code",
   "execution_count": 16,
   "metadata": {},
   "outputs": [],
   "source": [
    "import praw\n",
    "import pandas as pd\n",
    "from datetime import datetime"
   ]
  },
  {
   "cell_type": "code",
   "execution_count": 2,
   "metadata": {},
   "outputs": [],
   "source": [
    "reddit = praw.Reddit(client_id='oBB9mERjm734pg', client_secret='cOYYzyXJy7Z5iN2Z814NdBCjKIiWtw', user_agent='getwsb')"
   ]
  },
  {
   "cell_type": "code",
   "execution_count": 3,
   "metadata": {},
   "outputs": [
    {
     "name": "stdout",
     "output_type": "stream",
     "text": [
      "Daily Discussion Thread, Part 2, for January 28, 2021\n",
      "GME Containment Zone 2 for January 28, 2021\n",
      "UPVOTE so everyone sees we got SUPPORT\n",
      "Robinhood will not let new options or shares be bought apparently. This is market manipulation lol\n",
      "The Hero we need right now : FUCK ROBINHOOD!\n",
      "Can you say \"CLASS ACTION LAWSUIT\". Fuck you RobinHood\n",
      "DO NOT SELL! Robinhood has blocked the buying of more shares. If you try to sell you will get fucked because who are you going to sell it to if nobody can buy it? They are trying to make you flood the market with sales offers and bring the price down. Dont fall for it!\n",
      "CLASS ACTION AGAINST ROBINHOOD. Allowing people to only sell is the definition of market manipulation. A class action must be started, Robinhood has made plenty of money off selling info about our trades to the hedge funds to be able to pay out a little for causing people to loose money now\n",
      "MARC CUBAN SUPPORTS WSB! 🚀🚀🚀\n",
      "In just 2hrs, WSB have forced the Financial Times to adjust their article accusing our community of being linked to the alt-right. Hold the MSM to account and be excellent to each other.\n"
     ]
    }
   ],
   "source": [
    "hot_posts = reddit.subreddit('wallstreetbets').hot(limit=10)\n",
    "for post in hot_posts:\n",
    "    print(post.title)"
   ]
  },
  {
   "cell_type": "code",
   "execution_count": 24,
   "metadata": {},
   "outputs": [],
   "source": [
    "posts = []\n",
    "wsb = reddit.subreddit('wallstreetbets')\n",
    "for post in wsb.hot(limit=10):\n",
    "    \n",
    "    #Format 'created' as date\n",
    "    time = post.created\n",
    "    created_date = datetime.fromtimestamp(time)\n",
    "    \n",
    "    posts.append([post.title, post.score, post.id, post.url, post.num_comments, post.selftext, created_date])\n",
    "posts = pd.DataFrame(posts,columns=['title', 'score', 'id', 'url', 'num_comments', 'body', 'created'])"
   ]
  },
  {
   "cell_type": "code",
   "execution_count": null,
   "metadata": {},
   "outputs": [],
   "source": []
  }
 ],
 "metadata": {
  "kernelspec": {
   "display_name": "Python 3",
   "language": "python",
   "name": "python3"
  },
  "language_info": {
   "codemirror_mode": {
    "name": "ipython",
    "version": 3
   },
   "file_extension": ".py",
   "mimetype": "text/x-python",
   "name": "python",
   "nbconvert_exporter": "python",
   "pygments_lexer": "ipython3",
   "version": "3.6.9"
  }
 },
 "nbformat": 4,
 "nbformat_minor": 4
}
