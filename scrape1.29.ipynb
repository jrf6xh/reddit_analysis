{
 "cells": [
  {
   "cell_type": "code",
   "execution_count": 2,
   "metadata": {},
   "outputs": [],
   "source": [
    "import praw\n",
    "import pandas as pd\n",
    "from datetime import datetime"
   ]
  },
  {
   "cell_type": "code",
   "execution_count": 3,
   "metadata": {},
   "outputs": [],
   "source": [
    "reddit = praw.Reddit(client_id='oBB9mERjm734pg', client_secret='cOYYzyXJy7Z5iN2Z814NdBCjKIiWtw', user_agent='getwsb')"
   ]
  },
  {
   "cell_type": "code",
   "execution_count": 4,
   "metadata": {},
   "outputs": [
    {
     "name": "stdout",
     "output_type": "stream",
     "text": [
      "Daily Discussion Thread for January 29, 2021\n",
      "GME What About Second Breakfast Club Megathread\n",
      "BREAKING: SEC reviewing recent trading volatility amid GameStop frenzy, vows to protect ‘retail investors’\n",
      "CNBC Doxxed DeepFuckingValue - time for a boycott\n",
      "Congratulations, /r/wallstreetbets! You are Subreddit of the Day!\n",
      "It’s time for a government bailout of GME shareholders at $10,000 per share. This would be roughly equivalent to the $700 billion bank bailout in 08 that was necessary to prevent ‘systemic risk’.\n",
      "DFV\n",
      "WSB, WHAT IS YOUR STRATEGY? 💎✋🚀\n",
      "GME Breakfast Club Megathread\n",
      "RobinHood CEO when responding to Chris Cuomo on why he shut down trading of GME and AMC\n"
     ]
    }
   ],
   "source": [
    "hot_posts = reddit.subreddit('wallstreetbets').hot(limit=10)\n",
    "for post in hot_posts:\n",
    "    print(post.title)"
   ]
  },
  {
   "cell_type": "code",
   "execution_count": 7,
   "metadata": {},
   "outputs": [],
   "source": [
    "posts = []\n",
    "wsb = reddit.subreddit('wallstreetbets')\n",
    "\n",
    "#Filter out memes, news, other outside links\n",
    "relevant_posts = (post for post in wsb.hot(limit=10) if post.is_self)\n",
    "for post in relevant_posts:\n",
    "    \n",
    "    #Format 'created' as date\n",
    "    time = post.created\n",
    "    created_date = datetime.fromtimestamp(time)\n",
    "    \n",
    "    posts.append([post.title, post.score, post.upvote_ratio, post.id, post.url, post.link_flair_text, post.num_comments, post.selftext, created_date])\n",
    "posts = pd.DataFrame(posts,columns=['title', 'score', 'upvote_ratio', 'id', 'url', 'flair', 'num_comments', 'body', 'created'])"
   ]
  },
  {
   "cell_type": "code",
   "execution_count": 8,
   "metadata": {},
   "outputs": [
    {
     "data": {
      "text/html": [
       "<div>\n",
       "<style scoped>\n",
       "    .dataframe tbody tr th:only-of-type {\n",
       "        vertical-align: middle;\n",
       "    }\n",
       "\n",
       "    .dataframe tbody tr th {\n",
       "        vertical-align: top;\n",
       "    }\n",
       "\n",
       "    .dataframe thead th {\n",
       "        text-align: right;\n",
       "    }\n",
       "</style>\n",
       "<table border=\"1\" class=\"dataframe\">\n",
       "  <thead>\n",
       "    <tr style=\"text-align: right;\">\n",
       "      <th></th>\n",
       "      <th>title</th>\n",
       "      <th>score</th>\n",
       "      <th>upvote_ratio</th>\n",
       "      <th>id</th>\n",
       "      <th>url</th>\n",
       "      <th>flair</th>\n",
       "      <th>num_comments</th>\n",
       "      <th>body</th>\n",
       "      <th>created</th>\n",
       "    </tr>\n",
       "  </thead>\n",
       "  <tbody>\n",
       "    <tr>\n",
       "      <th>0</th>\n",
       "      <td>Daily Discussion Thread for January 29, 2021</td>\n",
       "      <td>10638</td>\n",
       "      <td>0.97</td>\n",
       "      <td>l7ptxi</td>\n",
       "      <td>https://www.reddit.com/r/wallstreetbets/commen...</td>\n",
       "      <td>Daily Discussion</td>\n",
       "      <td>76310</td>\n",
       "      <td>Your daily trading discussion thread. Please k...</td>\n",
       "      <td>2021-01-29 14:00:15</td>\n",
       "    </tr>\n",
       "    <tr>\n",
       "      <th>1</th>\n",
       "      <td>GME What About Second Breakfast Club Megathread</td>\n",
       "      <td>3610</td>\n",
       "      <td>0.99</td>\n",
       "      <td>l7v9o8</td>\n",
       "      <td>https://www.reddit.com/r/wallstreetbets/commen...</td>\n",
       "      <td>None</td>\n",
       "      <td>4381</td>\n",
       "      <td></td>\n",
       "      <td>2021-01-29 18:26:04</td>\n",
       "    </tr>\n",
       "    <tr>\n",
       "      <th>2</th>\n",
       "      <td>CNBC Doxxed DeepFuckingValue - time for a boycott</td>\n",
       "      <td>48224</td>\n",
       "      <td>0.94</td>\n",
       "      <td>l7tjyt</td>\n",
       "      <td>https://www.reddit.com/r/wallstreetbets/commen...</td>\n",
       "      <td>Discussion</td>\n",
       "      <td>3161</td>\n",
       "      <td>I was recently drawn to the attention of an ar...</td>\n",
       "      <td>2021-01-29 17:16:21</td>\n",
       "    </tr>\n",
       "    <tr>\n",
       "      <th>3</th>\n",
       "      <td>It’s time for a government bailout of GME shar...</td>\n",
       "      <td>27005</td>\n",
       "      <td>0.96</td>\n",
       "      <td>l7sx9e</td>\n",
       "      <td>https://www.reddit.com/r/wallstreetbets/commen...</td>\n",
       "      <td>Discussion</td>\n",
       "      <td>1124</td>\n",
       "      <td>The short positions put on by the hedge funds ...</td>\n",
       "      <td>2021-01-29 16:47:56</td>\n",
       "    </tr>\n",
       "    <tr>\n",
       "      <th>4</th>\n",
       "      <td>GME Breakfast Club Megathread</td>\n",
       "      <td>21455</td>\n",
       "      <td>0.97</td>\n",
       "      <td>l7s631</td>\n",
       "      <td>https://www.reddit.com/r/wallstreetbets/commen...</td>\n",
       "      <td>None</td>\n",
       "      <td>71482</td>\n",
       "      <td></td>\n",
       "      <td>2021-01-29 16:11:27</td>\n",
       "    </tr>\n",
       "  </tbody>\n",
       "</table>\n",
       "</div>"
      ],
      "text/plain": [
       "                                               title  score  upvote_ratio  \\\n",
       "0       Daily Discussion Thread for January 29, 2021  10638          0.97   \n",
       "1    GME What About Second Breakfast Club Megathread   3610          0.99   \n",
       "2  CNBC Doxxed DeepFuckingValue - time for a boycott  48224          0.94   \n",
       "3  It’s time for a government bailout of GME shar...  27005          0.96   \n",
       "4                      GME Breakfast Club Megathread  21455          0.97   \n",
       "\n",
       "       id                                                url  \\\n",
       "0  l7ptxi  https://www.reddit.com/r/wallstreetbets/commen...   \n",
       "1  l7v9o8  https://www.reddit.com/r/wallstreetbets/commen...   \n",
       "2  l7tjyt  https://www.reddit.com/r/wallstreetbets/commen...   \n",
       "3  l7sx9e  https://www.reddit.com/r/wallstreetbets/commen...   \n",
       "4  l7s631  https://www.reddit.com/r/wallstreetbets/commen...   \n",
       "\n",
       "              flair  num_comments  \\\n",
       "0  Daily Discussion         76310   \n",
       "1              None          4381   \n",
       "2        Discussion          3161   \n",
       "3        Discussion          1124   \n",
       "4              None         71482   \n",
       "\n",
       "                                                body             created  \n",
       "0  Your daily trading discussion thread. Please k... 2021-01-29 14:00:15  \n",
       "1                                                    2021-01-29 18:26:04  \n",
       "2  I was recently drawn to the attention of an ar... 2021-01-29 17:16:21  \n",
       "3  The short positions put on by the hedge funds ... 2021-01-29 16:47:56  \n",
       "4                                                    2021-01-29 16:11:27  "
      ]
     },
     "execution_count": 8,
     "metadata": {},
     "output_type": "execute_result"
    }
   ],
   "source": [
    "posts"
   ]
  },
  {
   "cell_type": "code",
   "execution_count": null,
   "metadata": {},
   "outputs": [],
   "source": []
  }
 ],
 "metadata": {
  "kernelspec": {
   "display_name": "Python 3",
   "language": "python",
   "name": "python3"
  },
  "language_info": {
   "codemirror_mode": {
    "name": "ipython",
    "version": 3
   },
   "file_extension": ".py",
   "mimetype": "text/x-python",
   "name": "python",
   "nbconvert_exporter": "python",
   "pygments_lexer": "ipython3",
   "version": "3.6.9"
  }
 },
 "nbformat": 4,
 "nbformat_minor": 4
}
